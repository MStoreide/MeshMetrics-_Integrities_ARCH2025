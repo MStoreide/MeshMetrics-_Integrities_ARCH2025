{
 "cells": [
  {
   "cell_type": "markdown",
   "id": "185c54c9",
   "metadata": {},
   "source": [
    "Inter and intra standard deviation between simplices in the heritage databases. "
   ]
  },
  {
   "cell_type": "code",
   "execution_count": null,
   "id": "c5cb6275",
   "metadata": {},
   "outputs": [
    {
     "name": "stdout",
     "output_type": "stream",
     "text": [
      "Intra-dataset standard deviation (per column):\n",
      "v    1,220,314\n",
      "e    3,642,351\n",
      "f    2,424,508\n",
      "dtype: object\n",
      "\n",
      "Inter-dataset standard deviation (per column):\n",
      "v    1,590,337\n",
      "e    4,564,947\n",
      "f    2,974,597\n",
      "dtype: object\n"
     ]
    }
   ],
   "source": [
    "import pandas as pd\n",
    "import numpy as np\n",
    "\n",
    "# Define your data\n",
    "data1 = {\n",
    "    'v': [148770, 979323, 24999, 1353953, 123559, 250009, 35500, 90000, 90012, 491590],\n",
    "    'e': [446304, 2937987, 75000, 3587914, 370689, 750004, 98315, 270000, 270000, 1474686],\n",
    "    'f': [297536, 1958658, 50000, 2232414, 247126, 499998, 63008, 180000, 180000, 983122]\n",
    "}\n",
    "data2 = {\n",
    "    'v': [1263463, 350325, 254146, 312059, 496624, 465184, 25430, 498405, 555201, 1502124],\n",
    "    'e': [3790765, 1050418, 753874, 934701, 1491432, 1400602, 75632, 1496946, 1653293, 4501467],\n",
    "    'f': [2526258, 699805, 499999, 622491, 993499, 933355, 49993, 997483, 1099632, 2999252]\n",
    "}\n",
    "data3 = {\n",
    "    'v': [1651758, 6741168, 249890, 1116207, 776476, 1321882, 4443783, 3856014, 2782803, 12731502],\n",
    "    'e': [5005503, 20223504, 749709, 3348621, 2133287, 3571968, 11982238, 10340088, 7149654, 38194500],\n",
    "    'f': [3337756, 13482336, 499806, 2232414, 1358653, 2249893, 7544025, 6485385, 4370976, 25463000]\n",
    "}\n",
    "data4 = {\n",
    "    'v': [70293, 612186, 259539, 511043, 277344, 182879, 24670, 162910, 299997, 203005],\n",
    "    'e': [210645, 1836549, 777951, 1532564, 823592, 548631, 73634, 488023, 899991, 608353],\n",
    "    'f': [139813, 1224362, 518413, 1021517, 546137, 365754, 48566, 325116, 599994, 405349]\n",
    "}\n",
    "\n",
    "# Create DataFrames\n",
    "df1 = pd.DataFrame(data1)\n",
    "df2 = pd.DataFrame(data2)\n",
    "df3 = pd.DataFrame(data3)\n",
    "df4 = pd.DataFrame(data4)\n",
    "dfs = [df1, df2, df3, df4]\n",
    "\n",
    "# 1. Compute standard deviations for original columns\n",
    "intra_std = pd.DataFrame([df.std(ddof=1) for df in dfs]).mean(axis=0)\n",
    "means = pd.DataFrame([df.mean() for df in dfs])\n",
    "inter_std = means.std(axis=0, ddof=1)\n",
    "\n",
    "# 2. Compute ratios between columns\n",
    "ratio_dfs = []\n",
    "for df in dfs:\n",
    "    ratio_df = pd.DataFrame({\n",
    "        'v/e': df['v'] / df['e'],\n",
    "        'v/f': df['v'] / df['f'],\n",
    "        'e/f': df['e'] / df['f']\n",
    "    })\n",
    "    ratio_dfs.append(ratio_df)\n",
    "\n",
    "# 3. Compute variability for ratios\n",
    "intra_ratio_std = pd.DataFrame([r.std(ddof=1) for r in ratio_dfs]).mean(axis=0)\n",
    "ratio_means = pd.DataFrame([r.mean() for r in ratio_dfs])\n",
    "inter_ratio_std = ratio_means.std(axis=0, ddof=1)\n",
    "\n",
    "# Format results\n",
    "pd.set_option('display.float_format', '{:,.0f}'.format)\n",
    "print(\"=== Original Columns ===\")\n",
    "print(\"Intra-dataset std (v,e,f):\")\n",
    "print(intra_std.apply(lambda x: f\"{int(round(x)):,}\"))\n",
    "print(\"\\nInter-dataset std (v,e,f):\")\n",
    "print(inter_std.apply(lambda x: f\"{int(round(x)):,}\"))\n",
    "\n",
    "print(\"\\n=== Ratios Between Columns ===\")\n",
    "print(\"Intra-dataset std (v/e, v/f, e/f):\")\n",
    "print(intra_ratio_std.apply(lambda x: f\"{x:.4f}\"))\n",
    "print(\"\\nInter-dataset std (v/e, v/f, e/f):\")\n",
    "print(inter_ratio_std.apply(lambda x: f\"{x:.4f}\"))\n",
    "\n",
    "# Print ratio means for reference\n",
    "print(\"\\nAverage ratios per dataset:\")\n",
    "for i, r_mean in enumerate(ratio_means.mean(axis=0)):\n",
    "    print(f\"{ratio_means.columns[i]}: {r_mean:.4f}\")\n"
   ]
  }
 ],
 "metadata": {
  "kernelspec": {
   "display_name": "Python 3",
   "language": "python",
   "name": "python3"
  },
  "language_info": {
   "codemirror_mode": {
    "name": "ipython",
    "version": 3
   },
   "file_extension": ".py",
   "mimetype": "text/x-python",
   "name": "python",
   "nbconvert_exporter": "python",
   "pygments_lexer": "ipython3",
   "version": "3.10.12"
  }
 },
 "nbformat": 4,
 "nbformat_minor": 5
}
